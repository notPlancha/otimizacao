{
 "cells": [
  {
   "cell_type": "code",
   "execution_count": null,
   "id": "e2a4e582-0463-4357-8ae0-5830971181a4",
   "metadata": {},
   "outputs": [],
   "source": [
    "from pulp import *\n",
    "from math import *"
   ]
  },
  {
   "cell_type": "markdown",
   "id": "d164efa6-b98d-4785-9cb6-38f5bd943bc1",
   "metadata": {},
   "source": [
    "$$\n",
    "\\newcommand{\\d}[2]{d_{#1}^{#2}}\n",
    "\\newcommand{\\p}[2]{p_{#1}^{#2}}\n",
    "\\begin{alignat*}{3}\n",
    "&\\text{minimizar }&\\frac2{60}\\d2-+\\frac4{5\\cdot60}\\d2++\\frac5{55}\\d3+\\\\\n",
    "&\\text{sujeito a }\\\\\n",
    "&&D_1 \\leq 6 \\\\\n",
    "&&D_2 \\geq 2 \\\\\n",
    "&&D_3 \\geq 1 \\\\\n",
    "&&5D_1+2D_2+4D_3+\\d2--\\d2+=60\\\\\n",
    "&&5D_1+5D_2+8D_3-\\d3+ \\leq 55\\\\\n",
    "&&\\d{i}{\\pm} \\geq 0\\\\\n",
    "&&\\d2\\pm \\in \\mathbb{N_0}\n",
    "\\end{alignat*}\n",
    "$$"
   ]
  },
  {
   "cell_type": "code",
   "execution_count": null,
   "id": "122c9256-674d-4d1c-8651-6dbf4750ca0f",
   "metadata": {},
   "outputs": [],
   "source": [
    "d = {\n",
    "    (i,pm):LpVariable(f\"d{i}{'mais' if pm == '+' else 'menos'}\", lowBound=0, cat = 'Integer' if i == 2 else 'Continuous') \n",
    "        for i in range(1,4) for pm in [\"+\", \"-\"]\n",
    "}\n",
    "D = {i: LpVariable(f\"D{i}\", lowBound=0) for i in range(1, 4)}"
   ]
  },
  {
   "cell_type": "code",
   "execution_count": null,
   "id": "6ff887a9-886b-4a65-a083-ed0fb0fd394d",
   "metadata": {},
   "outputs": [
    {
     "data": {
      "text/plain": [
       "nivel1:\n",
       "MINIMIZE\n",
       "1.3333333333333335*d2mais + 3.3333333333333335*d2menos + 9.090909090909092*d3mais + 0.0\n",
       "SUBJECT TO\n",
       "maximo_de_D1: D1 <= 6\n",
       "\n",
       "minimo_de_D2: D2 >= 2\n",
       "\n",
       "minimo_de_D3: D3 >= 1\n",
       "\n",
       "meta_de_manter_o_nivel_de_mao_de_obra: 5 D1 + 2 D2 + 4 D3 - d2mais + d2menos\n",
       " = 60\n",
       "\n",
       "meta_de_travar_o_investimento: 5 D1 + 5 D2 + 8 D3 - d3mais <= 55\n",
       "\n",
       "VARIABLES\n",
       "D1 Continuous\n",
       "D2 Continuous\n",
       "D3 Continuous\n",
       "0 <= d2mais Integer\n",
       "0 <= d2menos Integer\n",
       "d3mais Continuous"
      ]
     },
     "execution_count": null,
     "metadata": {},
     "output_type": "execute_result"
    }
   ],
   "source": [
    "modelo = LpProblem(\"nivel1\", LpMinimize)\n",
    "modelo += D[1] <= 6, \"maximo de D1\"\n",
    "modelo += D[2] >= 2, \"minimo de D2\"\n",
    "modelo += D[3] >= 1, \"minimo de D3\"\n",
    "\n",
    "#modelo += 12*D[1] + 9*D[2] + 5*D[3] + d[1, \"-\"]            >= 125,    \"meta de alcance de lucro\"\n",
    "modelo +=  5*D[1] + 2*D[2] + 4*D[3] + d[2, \"-\"] - d[2,\"+\"] == 60 ,    \"meta de manter o nivel de mao de obra\"\n",
    "modelo +=  5*D[1] + 5*D[2] + 8*D[3] - d[3, \"+\"]            <= 55 ,    \"meta de travar o investimento\"\n",
    "\n",
    "modelo +=  \\\n",
    "    100 * (2/60)       * d[2, \"-\"] + \\\n",
    "    100 * (4/(5*60)) * d[2, \"+\"] + \\\n",
    "    100 * (5/55)     * d[3, \"+\"]\n",
    "modelo"
   ]
  },
  {
   "cell_type": "code",
   "execution_count": null,
   "id": "a241e12a-cfa8-4635-ba4e-269aea56a3fe",
   "metadata": {},
   "outputs": [
    {
     "name": "stdout",
     "output_type": "stream",
     "text": [
      "status:  1\n",
      "valor do objetivo: 63.333333333333336\n",
      "variáveis:\n",
      "    D1 = 6.0\n",
      "    D2 = 2.0\n",
      "    D3 = 1.75\n",
      "    d2mais = 0.0\n",
      "    d2menos = 19.0\n",
      "    d3mais = 0.0\n"
     ]
    }
   ],
   "source": [
    "print(\"status: \",modelo.solve())\n",
    "print(\"valor do objetivo:\",value(modelo.objective))\n",
    "print(\"variáveis:\")\n",
    "for i in modelo.variables():\n",
    "    print(\"   \", i.name, \"=\", i.varValue)"
   ]
  },
  {
   "cell_type": "code",
   "execution_count": null,
   "id": "d834fef7-00ec-4e61-8cb7-21f6c3c66851",
   "metadata": {},
   "outputs": [],
   "source": [
    "d[2, \"+\"] = 0\n",
    "d[2, \"-\"] = 19\n",
    "d[3, \"+\"] = 0"
   ]
  },
  {
   "cell_type": "markdown",
   "id": "b1248968-d49e-48d0-b7c2-d9a0d7e8c56c",
   "metadata": {},
   "source": [
    "$$\n",
    "\\renewcommand{\\d}[2]{d_{#1}^{#2}}\n",
    "\\renewcommand{\\p}[2]{p_{#1}^{#2}}\n",
    "\\begin{alignat*}{3}\n",
    "&\\text{minimizar }&\\d1-\\\\\n",
    "&\\text{sujeito a }\\\\\n",
    "&&D_1 \\leq 6 \\\\\n",
    "&&D_2 \\geq 2 \\\\\n",
    "&&D_3 \\geq 1 \\\\\n",
    "&&12D_1+9D_2+5D_3+\\d1-\\geq125\\\\\n",
    "&&5D_1+2D_2+4D_3+19=60\\\\\n",
    "&&5D_1+5D_2+8D_3 \\leq 55\\\\\n",
    "&&\\d{i}{\\pm} \\geq 0\\\\\n",
    "&&\\d2\\pm \\in \\mathbb{N_0}\n",
    "\\end{alignat*}\n",
    "$$"
   ]
  },
  {
   "cell_type": "code",
   "execution_count": null,
   "id": "0d673407-20e1-4dd2-940e-cc44376dfd41",
   "metadata": {},
   "outputs": [
    {
     "data": {
      "text/plain": [
       "nivel2:\n",
       "MINIMIZE\n",
       "1*d1menos + 0\n",
       "SUBJECT TO\n",
       "maximo_de_D1: D1 <= 6\n",
       "\n",
       "minimo_de_D2: D2 >= 2\n",
       "\n",
       "minimo_de_D3: D3 >= 1\n",
       "\n",
       "meta_de_alcance_de_lucro: 12 D1 + 9 D2 + 5 D3 + d1menos >= 125\n",
       "\n",
       "meta_de_manter_o_nivel_de_mao_de_obra: 5 D1 + 2 D2 + 4 D3 = 41\n",
       "\n",
       "meta_de_travar_o_investimento: 5 D1 + 5 D2 + 8 D3 <= 55\n",
       "\n",
       "VARIABLES\n",
       "D1 Continuous\n",
       "D2 Continuous\n",
       "D3 Continuous\n",
       "d1menos Continuous"
      ]
     },
     "execution_count": null,
     "metadata": {},
     "output_type": "execute_result"
    }
   ],
   "source": [
    "modelo = LpProblem(\"nivel2\", LpMinimize)\n",
    "modelo += D[1] <= 6, \"maximo de D1\"\n",
    "modelo += D[2] >= 2, \"minimo de D2\"\n",
    "modelo += D[3] >= 1, \"minimo de D3\"\n",
    "\n",
    "modelo += 12*D[1] + 9*D[2] + 5*D[3] + d[1, \"-\"]            >= 125,    \"meta de alcance de lucro\"\n",
    "modelo +=  5*D[1] + 2*D[2] + 4*D[3] + d[2, \"-\"] - d[2,\"+\"] == 60 ,    \"meta de manter o nivel de mao de obra\"\n",
    "modelo +=  5*D[1] + 5*D[2] + 8*D[3] - d[3, \"+\"]            <= 55 ,    \"meta de travar o investimento\"\n",
    "\n",
    "modelo +=  d[1, \"-\"]\n",
    "modelo"
   ]
  },
  {
   "cell_type": "code",
   "execution_count": null,
   "id": "ae3405e9-ee38-4c19-983e-b02b4499a33b",
   "metadata": {},
   "outputs": [
    {
     "name": "stdout",
     "output_type": "stream",
     "text": [
      "status:  1\n",
      "valor do objetivo: 19.75\n",
      "variáveis:\n",
      "    D1 = 6.0\n",
      "    D2 = 3.0\n",
      "    D3 = 1.25\n",
      "    d1menos = 19.75\n"
     ]
    }
   ],
   "source": [
    "print(\"status: \",modelo.solve())\n",
    "print(\"valor do objetivo:\",value(modelo.objective))\n",
    "print(\"variáveis:\")\n",
    "for i in modelo.variables():\n",
    "    print(\"   \", i.name, \"=\", i.varValue)"
   ]
  }
 ],
 "metadata": {
  "kernelspec": {
   "display_name": "python3",
   "language": "python",
   "name": "python3"
  }
 },
 "nbformat": 4,
 "nbformat_minor": 5
}
