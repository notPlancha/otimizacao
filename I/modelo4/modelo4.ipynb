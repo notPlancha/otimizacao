{
 "cells": [
  {
   "cell_type": "markdown",
   "id": "39c33d5d-8697-415b-b287-c3fcb409f568",
   "metadata": {},
   "source": [
    "$$\n",
    "\\newcommand{\\d}[2]{d_{#1}^{#2}}\n",
    "\\newcommand{\\p}[2]{p_{#1}^{#2}}\n",
    "\\newcommand{\\ceil}[1]{\\left \\lceil #1 \\right \\rceil }\n",
    "\\newcommand{\\floor}[1]{\\left \\lfloor #1 \\right \\rfloor }\n",
    "\\newcommand{\\dl}[2]{d_{#1}^{#2'}}\n",
    "\\begin{alignat}{3}\n",
    "&\\text{minimizar }&f(\\d1-,\\dl2-,\\dl2+,\\d3+; \\p1+=5, \\p2-=4, \\p2+=10, \\p3-=5, t_1 = 125, t2 = 12, t_3 = 55)\\\\\n",
    "&\\text{sujeito a }\\\\\n",
    "&&D_1 \\leq 6 \\\\\n",
    "&&D_2 \\geq 2 \\\\\n",
    "&&D_3 \\geq 1 \\\\\n",
    "&&12D_1+9D_2+5D_3+\\d1-\\geq125\\\\\n",
    "&&D_1+\\frac{2}{5}D_2+\\frac{4}{5}D_3+\\dl2--\\dl2+=12\\\\\n",
    "&&5D_1+5D_2+8D_3-\\d3+ \\leq 55\\\\\n",
    "&&\\d{i}{\\pm} \\geq 0\\\\\n",
    "&&\\dl2\\pm \\in \\mathbb{N_0}\n",
    "\\end{alignat}\n",
    "$$"
   ]
  },
  {
   "cell_type": "markdown",
   "id": "86d54c66-bf8f-4684-a51d-d071e61e9a64",
   "metadata": {},
   "source": [
    "fica (Handbook of Critical Issues in Goal Programming, pag37 - pag39)\n",
    "$$\n",
    "\\newcommand{\\d}[2]{d_{#1}^{#2}}\n",
    "\\newcommand{\\p}[2]{p_{#1}^{#2}}\n",
    "\\newcommand{\\ceil}[1]{\\left \\lceil #1 \\right \\rceil }\n",
    "\\newcommand{\\floor}[1]{\\left \\lfloor #1 \\right \\rfloor }\n",
    "\\newcommand{\\dl}[2]{d_{#1}^{#2'}}\n",
    "\\newcommand{\\dll}[2]{d_{#1}^{#2''}}\n",
    "\\begin{alignat}{3}\n",
    "&\\text{minimizar }&5\\dl1- +4\\dll2- + 10\\dll2+ 5\\dl3+  \\\\\n",
    "&\\text{sujeito a }\\\\\n",
    "&&D_1 \\leq 6 \\\\\n",
    "&&D_2 \\geq 2 \\\\\n",
    "&&D_3 \\geq 1 \\\\\n",
    "&&9.6D_1+7.2D_2+4D_3+\\dl1-\\geq100\\\\\n",
    "&&8.(3)D_1+3.(3)D_2+6.(6)D_3+\\dll2--\\dll2+=100\\\\\n",
    "&&9.(09)D_1+9.(09)D_2+14.(54)D_3-\\dl3+ \\leq 100\\\\\n",
    "&&\\d{i}{\\pm} \\geq 0\\\\\n",
    "&&\\dl2\\pm \\in \\mathbb{N_0} \\\\\n",
    "&&\n",
    "\\end{alignat} \\\\\n",
    "\\text{,sendo } \\dll{i}{\\pm} = \\frac{100 \\cdot \\dl{i}{\\pm}}{t_i}\n",
    "$$"
   ]
  },
  {
   "cell_type": "code",
   "execution_count": null,
   "id": "e2a4e582-0463-4357-8ae0-5830971181a4",
   "metadata": {},
   "outputs": [],
   "source": [
    "from pulp import *\n",
    "from math import *"
   ]
  },
  {
   "cell_type": "code",
   "execution_count": null,
   "id": "122c9256-674d-4d1c-8651-6dbf4750ca0f",
   "metadata": {},
   "outputs": [],
   "source": [
    "d = {\n",
    "    (i,pm):LpVariable(f\"d{i}{'mais' if pm == '+' else 'menos'}\", lowBound=0, cat = 'Integer' if i == 2 else 'Continuous') \n",
    "        for i in range(1,4) for pm in [\"+\", \"-\"]\n",
    "}\n",
    "D = {i: LpVariable(f\"D{i}\", lowBound=0) for i in range(1, 4)}\n",
    "p = {\n",
    "    (1, \"-\"): 5,\n",
    "    (2, \"-\"): 4,\n",
    "    (2, \"+\"): 10,\n",
    "    (3, \"+\"): 5\n",
    "}\n",
    "t = {\n",
    "    1:125,\n",
    "    2:12,\n",
    "    3:55\n",
    "}\n",
    "\n",
    "def unline(dlinha, t):\n",
    "    return (dlinha*t)/100"
   ]
  },
  {
   "cell_type": "code",
   "execution_count": null,
   "id": "6ff887a9-886b-4a65-a083-ed0fb0fd394d",
   "metadata": {},
   "outputs": [
    {
     "data": {
      "text/plain": [
       "modelo4:\n",
       "MINIMIZE\n",
       "5*d1menos + 10*d2mais + 4*d2menos + 5*d3mais + 0\n",
       "SUBJECT TO\n",
       "maximo_de_D1: D1 <= 6\n",
       "\n",
       "minimo_de_D2: D2 >= 2\n",
       "\n",
       "minimo_de_D3: D3 >= 1\n",
       "\n",
       "meta_de_alcance_de_lucro: 9.6 D1 + 7.2 D2 + 4 D3 + d1menos >= 100\n",
       "\n",
       "meta_de_manter_o_nivel_de_mao_de_obra: 8.33333333333 D1 + 3.33333333333 D2\n",
       " + 6.66666666667 D3 - d2mais + d2menos = 100\n",
       "\n",
       "meta_de_travar_o_investimento: 0.0909090909091 D1 + 0.0909090909091 D2\n",
       " + 14.5454545455 D3 - d3mais <= 100\n",
       "\n",
       "VARIABLES\n",
       "D1 Continuous\n",
       "D2 Continuous\n",
       "D3 Continuous\n",
       "d1menos Continuous\n",
       "0 <= d2mais Integer\n",
       "0 <= d2menos Integer\n",
       "d3mais Continuous"
      ]
     },
     "execution_count": null,
     "metadata": {},
     "output_type": "execute_result"
    }
   ],
   "source": [
    "modelo = LpProblem(\"modelo4\", LpMinimize)\n",
    "modelo += (D[1] <= 6, \"maximo de D1\")\n",
    "modelo += (D[2] >= 2, \"minimo de D2\")\n",
    "modelo += (D[3] >= 1, \"minimo de D3\")\n",
    "modelo += (9.6*D[1] + 7.2*D[2] + 4*D[3]+d[1, \"-\"] >= 100, \"meta de alcance de lucro\")\n",
    "modelo += ((8 + 1/3)*D[1] + (3 + 1/3) * D[2] + (6 + 2/3) * D[3] + d[2,\"-\"] - d[2,\"+\"] == 100, \"meta de manter o nivel de mao de obra\")\n",
    "modelo += ((1/11)*D[1] + (1/11)*D[2] + (14 + 6/11)*D[3] - d[3, \"+\"] <= 100, \"meta de travar o investimento\")\n",
    "modelo += 5*d[1, \"-\"] + 4*d[2, \"-\"] + 10*d[2, \"+\"] + 5*d[3, \"+\"]\n",
    "modelo"
   ]
  },
  {
   "cell_type": "code",
   "execution_count": null,
   "id": "a241e12a-cfa8-4635-ba4e-269aea56a3fe",
   "metadata": {},
   "outputs": [
    {
     "name": "stdout",
     "output_type": "stream",
     "text": [
      "status:  1\n",
      "valor do objetivo: 0.0\n",
      "variáveis:\n",
      "    D1 = 6.0\n",
      "    D2 = 13.0\n",
      "    D3 = 1.0\n",
      "    d1menos = 0.0\n",
      "    d2mais = 0.0\n",
      "    d2menos = 0.0\n",
      "    d3mais = 0.0\n"
     ]
    }
   ],
   "source": [
    "print(\"status: \",modelo.solve())\n",
    "print(\"valor do objetivo:\",value(modelo.objective))\n",
    "print(\"variáveis:\")\n",
    "for i in modelo.variables():\n",
    "    print(\"   \", i.name, \"=\", i.varValue)"
   ]
  },
  {
   "cell_type": "markdown",
   "id": "b6ce3834-8908-4deb-b6c2-075b09163c98",
   "metadata": {},
   "source": [
    "Parece dar os mesmos valores de desvios porque a meta 1 já está na mesma unidade que a meta 3, e a meta 2 como é inteira, e a penalização é pequena ao de empregar mais pessoas, o modelo decidiu como importante mesmo quando usando os desvios percentuais. O lucro a longo prazo atinge sempre o pretendido, mas prevê-se que o investimento terá que ser maior. Isto faz sentido sendo que D1 contribui de forma drástica para o lucro comparado com o investimento necessário e a mão de obra que precisa (sendo que o modelo achou necessário usar sempre o máximo desse doce), ainda que este é o que precisa de mais mão de obra; tanto que o modelo recomenda empregar mais para este lucro se observar."
   ]
  }
 ],
 "metadata": {
  "kernelspec": {
   "display_name": "python3",
   "language": "python",
   "name": "python3"
  }
 },
 "nbformat": 4,
 "nbformat_minor": 5
}
