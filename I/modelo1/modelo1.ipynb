{
 "cells": [
  {
   "cell_type": "markdown",
   "id": "68c660bc-796e-42c5-a0e0-08e5e3776cf7",
   "metadata": {},
   "source": [
    "$$\n",
    "\\newcommand{\\d}[2]{d_{#1}^{#2}}\n",
    "\\newcommand{\\p}[2]{p_{#1}^{#2}}\n",
    "\\newcommand{\\ceil}[1]{\\left \\lceil #1 \\right \\rceil }\n",
    "\\newcommand{\\floor}[1]{\\left \\lfloor #1 \\right \\rfloor }\n",
    "\\begin{alignat}{3}\n",
    "&\\text{minimizar }&f(\\d1-,\\d2-,\\d2+,\\d3+; \\p1+=5, \\p2-=g(\\d2-; 4), \\p2+=g(\\d2+; 10), \\p3-=5)\\\\\n",
    "&\\text{sujeito a }\\\\\n",
    "&&D_1 \\leq 6 \\\\\n",
    "&&D_2 \\geq 2 \\\\\n",
    "&&D_3 \\geq 1 \\\\\n",
    "&&12D_1+9D_2+5D_3+\\d1-\\geq125\\\\\n",
    "&&5D_1+2D_2+4D_4+\\d2--\\d2+=60\\\\\n",
    "&&5D_1+5D_2+8D_3-\\d3+ \\leq 55\\\\\n",
    "&&\\d{i}{\\pm} , \\p{i}{\\pm} \\geq 0\n",
    "\\end{alignat}, g(d; p) = p\\floor{\\frac{d}{5}}\n",
    "$$"
   ]
  },
  {
   "cell_type": "code",
   "execution_count": null,
   "id": "e2a4e582-0463-4357-8ae0-5830971181a4",
   "metadata": {},
   "outputs": [],
   "source": [
    "from pulp import *"
   ]
  },
  {
   "cell_type": "markdown",
   "id": "d164efa6-b98d-4785-9cb6-38f5bd943bc1",
   "metadata": {},
   "source": [
    "$$\n",
    "\\begin{align}\n",
    "f(\\mathbf{d^{\\pm}};\\mathbf{p^{\\pm}}) &= \\sum p_i^+d_i^+ +\\sum p_i^-d_i^- \\\\\n",
    "f(\\d1-,\\d2-,\\d2+,\\d3+; \\p1+=5, \\p2-=g(\\d2-; 4), \\p2+=g(\\d2+; 10), \\p3-=5) \n",
    "&= 5\\d1- + g(\\d2-; 4)\\d2- + g(\\d2+;10)\\d2+ + 5\\d3+ \n",
    "\\end{align}\n",
    "$$"
   ]
  },
  {
   "cell_type": "code",
   "execution_count": null,
   "id": "122c9256-674d-4d1c-8651-6dbf4750ca0f",
   "metadata": {},
   "outputs": [
    {
     "data": {
      "text/plain": [
       "d2mais"
      ]
     },
     "execution_count": null,
     "metadata": {},
     "output_type": "execute_result"
    }
   ],
   "source": [
    "modelo = LpProblem(\"modelo1\", LpMinimize)\n",
    "desvs = {(i,pm):LpVariable(f\"d{i}{pm}\") for i in range(1,4) for pm in [\"mais\", \"menos\"]}"
   ]
  }
 ],
 "metadata": {
  "kernelspec": {
   "display_name": "python3",
   "language": "python",
   "name": "python3"
  }
 },
 "nbformat": 4,
 "nbformat_minor": 5
}
