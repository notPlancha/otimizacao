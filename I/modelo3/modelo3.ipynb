{
 "cells": [
  {
   "cell_type": "markdown",
   "id": "39c33d5d-8697-415b-b287-c3fcb409f568",
   "metadata": {},
   "source": [
    "$$\n",
    "\\newcommand{\\d}[2]{d_{#1}^{#2}}\n",
    "\\newcommand{\\p}[2]{p_{#1}^{#2}}\n",
    "\\newcommand{\\ceil}[1]{\\left \\lceil #1 \\right \\rceil }\n",
    "\\newcommand{\\floor}[1]{\\left \\lfloor #1 \\right \\rfloor }\n",
    "\\newcommand{\\dl}[2]{d_{#1}^{#2'}}\n",
    "\\begin{alignat}{3}\n",
    "&\\text{minimizar }&f(\\d1-,\\dl2-,\\dl2+,\\d3+; \\p1-=5, \\p2-=4, \\p2+=10, \\p3+=5, t_1 = 125, t2 = 12, t_3 = 55)\\\\\n",
    "&\\text{sujeito a }\\\\\n",
    "&&D_1 \\leq 6 \\\\\n",
    "&&D_2 \\geq 2 \\\\\n",
    "&&D_3 \\geq 1 \\\\\n",
    "&&12D_1+9D_2+5D_3+\\d1-\\geq125\\\\\n",
    "&&D_1+\\frac{2}{5}D_2+\\frac{4}{5}D_3+\\dl2--\\dl2+=12\\\\\n",
    "&&5D_1+5D_2+8D_3-\\d3+ \\leq 55\\\\\n",
    "&&\\d{i}{\\pm} \\geq 0\\\\\n",
    "&&\\dl2\\pm \\in \\mathbb{N_0}\n",
    "\\end{alignat}\n",
    "$$"
   ]
  },
  {
   "cell_type": "code",
   "execution_count": null,
   "id": "e2a4e582-0463-4357-8ae0-5830971181a4",
   "metadata": {},
   "outputs": [],
   "source": [
    "from pulp import *\n",
    "from math import *"
   ]
  },
  {
   "cell_type": "markdown",
   "id": "d164efa6-b98d-4785-9cb6-38f5bd943bc1",
   "metadata": {},
   "source": [
    "$$\n",
    "f(\\mathbf{d^{\\pm}};\\mathbf{p^{\\pm}}, \\mathbf{t}) = \\max \\left\\{ p_i^\\pm\\frac{d^\\pm_i}{t_i} \\right\\} \\\\\n",
    "$$\n",
    "\n",
    "fica\n",
    "\n",
    "$$\n",
    "\\newcommand{\\d}[2]{d_{#1}^{#2}}\n",
    "\\newcommand{\\p}[2]{p_{#1}^{#2}}\n",
    "\\newcommand{\\ceil}[1]{\\left \\lceil #1 \\right \\rceil }\n",
    "\\newcommand{\\floor}[1]{\\left \\lfloor #1 \\right \\rfloor }\n",
    "\\newcommand{\\dl}[2]{d_{#1}^{#2'}}\n",
    "\\begin{alignat}{3}\n",
    "&\\text{minimizar }&Q\\\\\n",
    "&\\text{sujeito a }\\\\\n",
    "&&p_i^\\pm\\frac{d^\\pm_i}{t_i} \\leq Q \\\\\n",
    "&&D_1 \\leq 6 \\\\\n",
    "&&D_2 \\geq 2 \\\\\n",
    "&&D_3 \\geq 1 \\\\\n",
    "&&12D_1+9D_2+5D_3+\\d1-\\geq125\\\\\n",
    "&&D_1+\\frac{2}{5}D_2+\\frac{4}{5}D_3+\\dl2--\\dl2+=12\\\\\n",
    "&&5D_1+5D_2+8D_3-\\d3+ \\leq 55\\\\\n",
    "&&\\d{i}{\\pm} \\geq 0\\\\\n",
    "&&\\dl2\\pm \\in \\mathbb{N_0}\n",
    "\\end{alignat}\n",
    "$$"
   ]
  },
  {
   "cell_type": "code",
   "execution_count": null,
   "id": "122c9256-674d-4d1c-8651-6dbf4750ca0f",
   "metadata": {},
   "outputs": [],
   "source": [
    "d = {\n",
    "    (i,pm):LpVariable(f\"d{i}{'mais' if pm == '+' else 'menos'}\", lowBound=0, cat = 'Integer' if i == 2 else 'Continuous') \n",
    "        for i in range(1,4) for pm in [\"+\", \"-\"]\n",
    "}\n",
    "p = {\n",
    "    (1, \"-\"): 5,\n",
    "    (2, \"-\"): 4,\n",
    "    (2, \"+\"): 10,\n",
    "    (3, \"+\"): 5\n",
    "}\n",
    "t = {\n",
    "    1:125,\n",
    "    2:12,\n",
    "    3:55\n",
    "}\n",
    "D = {i: LpVariable(f\"D{i}\", lowBound=0) for i in range(1, 4)}\n",
    "Q = LpVariable(\"Q\")"
   ]
  },
  {
   "cell_type": "code",
   "execution_count": null,
   "id": "6ff887a9-886b-4a65-a083-ed0fb0fd394d",
   "metadata": {},
   "outputs": [
    {
     "data": {
      "text/plain": [
       "modelo1:\n",
       "MINIMIZE\n",
       "1*Q + 0\n",
       "SUBJECT TO\n",
       "_C1: - Q + 0.04 d1menos <= 0\n",
       "\n",
       "_C2: - Q + 0.833333333333 d2mais <= 0\n",
       "\n",
       "_C3: - Q + 0.333333333333 d2menos <= 0\n",
       "\n",
       "_C4: - Q + 0.0909090909091 d3mais <= 0\n",
       "\n",
       "maximo_de_D1: D1 <= 6\n",
       "\n",
       "minimo_de_D2: D2 >= 2\n",
       "\n",
       "minimo_de_D3: D3 >= 1\n",
       "\n",
       "meta_de_alcance_de_lucro: 12 D1 + 9 D2 + 5 D3 + d1menos >= 125\n",
       "\n",
       "meta_de_manter_o_nivel_de_mao_de_obra: D1 + 0.4 D2 + 0.8 D3 - d2mais + d2menos\n",
       " = 12\n",
       "\n",
       "meta_de_travar_o_investimento: 5 D1 + 5 D2 + 8 D3 - d3mais <= 55\n",
       "\n",
       "VARIABLES\n",
       "D1 Continuous\n",
       "D2 Continuous\n",
       "D3 Continuous\n",
       "Q free Continuous\n",
       "d1menos Continuous\n",
       "0 <= d2mais Integer\n",
       "0 <= d2menos Integer\n",
       "d3mais Continuous"
      ]
     },
     "execution_count": null,
     "metadata": {},
     "output_type": "execute_result"
    }
   ],
   "source": [
    "modelo = LpProblem(\"modelo1\", LpMinimize)\n",
    "for i in range(1,4):\n",
    "    if (i, \"+\") in p: modelo += (p[i, \"+\"] * d[i, \"+\"])/t[i] <= Q\n",
    "    if (i, \"-\") in p: modelo += (p[i, \"-\"] * d[i, \"-\"])/t[i] <= Q\n",
    "modelo += (D[1] <= 6, \"maximo de D1\")\n",
    "modelo += (D[2] >= 2, \"minimo de D2\")\n",
    "modelo += (D[3] >= 1, \"minimo de D3\")\n",
    "modelo += (12*D[1] + 9*D[2] + 5*D[3]+d[1, \"-\"] >= 125, \"meta de alcance de lucro\")\n",
    "modelo += (D[1] + (2/5) * D[2] + (4/5) * D[3] + d[2,\"-\"] - d[2,\"+\"] == (60/5), \"meta de manter o nivel de mao de obra\")\n",
    "modelo += (5*D[1] + 5*D[2] + 8*D[3] - d[3, \"+\"] <= 55, \"meta de travar o investimento\")\n",
    "modelo += Q # objetivo\n",
    "modelo"
   ]
  },
  {
   "cell_type": "code",
   "execution_count": null,
   "id": "a241e12a-cfa8-4635-ba4e-269aea56a3fe",
   "metadata": {},
   "outputs": [
    {
     "name": "stdout",
     "output_type": "stream",
     "text": [
      "status:  1\n",
      "valor do objetivo: 1.0\n",
      "variáveis:\n",
      "    D1 = 6.0\n",
      "    D2 = 2.0\n",
      "    D3 = 2.75\n",
      "    Q = 1.0\n",
      "    d1menos = 21.25\n",
      "    d2mais = 0.0\n",
      "    d2menos = 3.0\n",
      "    d3mais = 7.0\n"
     ]
    }
   ],
   "source": [
    "print(\"status: \",modelo.solve())\n",
    "print(\"valor do objetivo:\",value(modelo.objective))\n",
    "print(\"variáveis:\")\n",
    "for i in modelo.variables():\n"
   ]
  }
 ],
 "metadata": {
  "kernelspec": {
   "display_name": "python3",
   "language": "python",
   "name": "python3"
  }
 },
 "nbformat": 4,
 "nbformat_minor": 5
}
