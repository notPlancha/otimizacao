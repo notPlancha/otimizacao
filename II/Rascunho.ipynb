{
 "cells": [
  {
   "cell_type": "markdown",
   "id": "edd7c8f3-187d-4edb-b20d-30406b22b882",
   "metadata": {},
   "source": [
    "A companhia farmacêutica Lusa_Med detém os direitos sobre dez projetos I&D, P1, …, P10, e pretende iniciá-los na tentativa de desenvolver novos medicamentos para o tratamento de dez tipos específicos de doenças. Cada projeto necessita de um coordenador distinto para o liderar e, atendendo à exigência dos projetos, cada coordenador só poderá liderar um só projeto. A Lusa_Med já selecionou dez cientistas seniores, C1, …, C10, e pretende saber como deve alocar os cientistas aos projetos. Para o efeito, a companhia elaborou uma tabela com a aptidão de cada cientista para liderar cada um dos projetos (medida na escala 0-100):"
   ]
  },
  {
   "cell_type": "code",
   "execution_count": null,
   "id": "a4c2c167-4337-43b9-938b-0cdc9c8cf9e6",
   "metadata": {},
   "outputs": [
    {
     "data": {
      "text/plain": [
       "array([[ 70,  65,  55,  50,  90,  67,  80,  62, 100,  85],\n",
       "       [ 74,  83,  54,  60, 100,  75,  50,  76,  82,  45],\n",
       "       [ 71,  87,  66,  58,  74,  81,  48,  52, 100,  64],\n",
       "       [ 50,  89,  78,  63,  51,  40,  48, 100,  68,  75],\n",
       "       [100,  66,  83,  77,  54,  58,  93,  89,  53,  48],\n",
       "       [ 80,  55,  70,  65,  94,  47,  60,  88,  73,  60],\n",
       "       [ 87,  63,  90,  79,  47,  77,  90,  76,  85,  90],\n",
       "       [ 67,  95, 100,  40,  70,  54,  70, 100,  65,  57],\n",
       "       [ 90,  45,  88,  48,  65,  68,  80,  46,  71,  67],\n",
       "       [ 67,  77,  50,  60, 100,  70,  80,  60,  65,  70]])"
      ]
     },
     "execution_count": null,
     "metadata": {},
     "output_type": "execute_result"
    }
   ],
   "source": [
    "import numpy as np\n",
    "from fslash.core import pipe\n",
    "from pampy import match, _\n",
    "from dataclasses import dataclass as dc\n",
    "from copy import deepcopy as copy\n",
    "from pandas import DataFrame\n",
    "showLog = True\n",
    "table = np.array([\n",
    "    [ 70,  65,  55,  50,  90,  67,  80,  62, 100,  85],\n",
    "    [ 74,  83,  54,  60, 100,  75,  50,  76,  82,  45],\n",
    "    [ 71,  87,  66,  58,  74,  81,  48,  52, 100,  64],\n",
    "    [ 50,  89,  78,  63,  51,  40,  48, 100,  68,  75],\n",
    "    [100,  66,  83,  77,  54,  58,  93,  89,  53,  48],\n",
    "    [ 80,  55,  70,  65,  94,  47,  60,  88,  73,  60],\n",
    "    [ 87,  63,  90,  79,  47,  77,  90,  76,  85,  90],\n",
    "    [ 67,  95, 100,  40,  70,  54,  70, 100,  65,  57],\n",
    "    [ 90,  45,  88,  48,  65,  68,  80,  46,  71,  67],\n",
    "    [ 67,  77,  50,  60, 100,  70,  80,  60,  65,  70]\n",
    "])\n",
    "table"
   ]
  },
  {
   "cell_type": "markdown",
   "id": "ac231f38-b14e-465d-9599-259384025091",
   "metadata": {},
   "source": [
    "a) Uma solução admissível é uma solução que satisfaz as condições presupostas do problema. Portanto para este problema, qualquer solução que admite cada cientista a cada projetos (sendo que há 10 cientistas e 10 projetos) será uma solução admissível.\n",
    "\n",
    "b) Uma possível heurística contrutiva seria admitir como lider do projeto $i$ o cientista cujo número está associado, $i$, $i = [1 .. 10]$. Ou seja, $C_1$ será lider de $P_1$, $C_2$ de $P_2$, e assim sucessivamente. Esta heurística, embora produzindo uma solução admissível, não é interessante para a **Lusa_med**, sendo que é equivalente a uma heurística que escolhe os líderes de forma aleatória (sem reposição). Portanto, uma heurística construtiva alternativa seria alocar para o cientista $i$ o projeto em que este tem a sua melhor aptidão, entre as ainda não alocadas ainda, $i =[1 .. 10]$. Ou seja, $C_1 \\rightarrow P_9$, $C_2 \\rightarrow P_5$, e assim sucesivamente."
   ]
  },
  {
   "cell_type": "code",
   "execution_count": null,
   "id": "223f897e-9a9b-4d18-bcf6-3b8325a0a757",
   "metadata": {},
   "outputs": [
    {
     "name": "stdout",
     "output_type": "stream",
     "text": [
      "Cientistas e os seus projetos associados: \n",
      "  C_1 sem projeto associado\n",
      "  C_2 sem projeto associado\n",
      "  C_3 sem projeto associado\n",
      "  C_4 sem projeto associado\n",
      "  C_5 sem projeto associado\n",
      "  C_6 sem projeto associado\n",
      "  C_7 sem projeto associado\n",
      "  C_8 sem projeto associado\n",
      "  C_9 sem projeto associado\n",
      "  C_10 sem projeto associado\n",
      "  Soma das aptidões: 0\n"
     ]
    }
   ],
   "source": [
    "@dc\n",
    "class Project:\n",
    "    index: int\n",
    "    aptidao: int\n",
    "@dc\n",
    "class Cientista:\n",
    "    index: int\n",
    "    aptidoes: np.ndarray[int]\n",
    "    projetoAssociado: Project = None\n",
    "    projetos: list[Project]   = None\n",
    "    def __post_init__(self):\n",
    "        self.projetos = [Project(i+1, apt) for i, apt in enumerate(self.aptidoes)]\n",
    "    def __str__(self):\n",
    "        if self.projetoAssociado is not None:\n",
    "            return f\"C_{self.index}: P_{self.projetoAssociado.index} (Aptidão de {self.projetoAssociado.aptidao})\"\n",
    "        else:\n",
    "            return f\"C_{self.index} sem projeto associado\"\n",
    "    def reset(self):\n",
    "        self.projetoAssociado = None\n",
    "    def __getitem__(self, ind):\n",
    "        return self.projetos[ind-1]\n",
    "@dc\n",
    "class Cientistas:\n",
    "    matrix: np.ndarray[int, int]\n",
    "    cientistas: list[Cientista] = None #will be overwriten\n",
    "    def __post_init__(self):\n",
    "        self.cientistas = []\n",
    "        for i, row in enumerate(self.matrix):\n",
    "            self.cientistas.append(Cientista(i+1, row))\n",
    "    def __getitem__(self, indexDoCientista: int, indexDaAptidao: int = None) -> Cientista:\n",
    "        if indexDaAptidao is None: return self.cientistas[indexDoCientista - 1]\n",
    "        else: return self.cientistas[indexDoCientista - 1].aptidoes[indexDaAptidao - 1]\n",
    "    def get(self, indexDoCientista) -> Cientista:\n",
    "        return self[indexDoCientista]\n",
    "    def __str__(self):\n",
    "        ret = \"Cientistas e os seus projetos associados: \\n\"\n",
    "        for c in self.cientistas:\n",
    "            ret += \"  \" + str(c) + \"\\n\"\n",
    "        ret += f\"  Soma das aptidões: {self.getSum()}\"\n",
    "        return ret\n",
    "    def reset(self):\n",
    "        self.__post_init__()\n",
    "    def __iter__(self):\n",
    "        return iter(self.cientistas)\n",
    "    def getSum(self):\n",
    "        return sum([cient.projetoAssociado.aptidao for cient in self.cientistas if cient.projetoAssociado is not None])\n",
    "    @property\n",
    "    def aptidaoTotal(self):\n",
    "        return self.getSum()\n",
    "    def __len__(self):\n",
    "        return len(self.cientistas)\n",
    "    def tradeProject(self, cientista1: int | Cientista, cientista2: int | Cientista):\n",
    "        if type(cientista1) is int: cientista1 = self.get(cientista1)\n",
    "        if type(cientista2) is int: cientista2 = self.get(cientista2)\n",
    "        # standart trade isn't good because the projects cientist based, that is its aptidao is based on the cientist\n",
    "        cient1ProjInd = cientista1.projetoAssociado.index\n",
    "        cient2ProjInd = cientista2.projetoAssociado.index\n",
    "        cientista1.projetoAssociado = cientista1[cient2ProjInd]\n",
    "        cientista2.projetoAssociado = cientista2[cient1ProjInd]\n",
    "    def __eq__(self, other):\n",
    "        if len(self) != len(other): return False\n",
    "        for i in range(len(self)+1):\n",
    "            if self[i].projetoAssociado.index != other[i].projetoAssociado.index:\n",
    "                return False\n",
    "        return True\n",
    "def log(*args, **kwargs):\n",
    "    if showLog:\n",
    "        print(*args, **kwargs)\n",
    "cientistas = Cientistas(table)\n",
    "/print cientistas"
   ]
  },
  {
   "cell_type": "code",
   "execution_count": null,
   "id": "65f62350-cd7f-40ba-b0cc-b90ac5d7db99",
   "metadata": {},
   "outputs": [
    {
     "name": "stdout",
     "output_type": "stream",
     "text": [
      "Cientista 1\n",
      "  Pool: [1, 2, 3, 4, 5, 6, 7, 8, 9, 10]\n",
      "  Max: Project(index=9, aptidao=100)\n",
      "Cientista 2\n",
      "  Pool: [1, 2, 3, 4, 5, 6, 7, 8, 10]\n",
      "  Max: Project(index=5, aptidao=100)\n",
      "Cientista 3\n",
      "  Pool: [1, 2, 3, 4, 6, 7, 8, 10]\n",
      "  Max: Project(index=2, aptidao=87)\n",
      "Cientista 4\n",
      "  Pool: [1, 3, 4, 6, 7, 8, 10]\n",
      "  Max: Project(index=8, aptidao=100)\n",
      "Cientista 5\n",
      "  Pool: [1, 3, 4, 6, 7, 10]\n",
      "  Max: Project(index=1, aptidao=100)\n",
      "Cientista 6\n",
      "  Pool: [3, 4, 6, 7, 10]\n",
      "  Max: Project(index=3, aptidao=70)\n",
      "Cientista 7\n",
      "  Pool: [4, 6, 7, 10]\n",
      "  Max: Project(index=7, aptidao=90)\n",
      "Cientista 8\n",
      "  Pool: [4, 6, 10]\n",
      "  Max: Project(index=10, aptidao=57)\n",
      "Cientista 9\n",
      "  Pool: [4, 6]\n",
      "  Max: Project(index=6, aptidao=68)\n",
      "Cientista 10\n",
      "  Pool: [4]\n",
      "  Max: Project(index=4, aptidao=60)\n",
      "Cientistas e os seus projetos associados: \n",
      "  C_1: P_9 (Aptidão de 100)\n",
      "  C_2: P_5 (Aptidão de 100)\n",
      "  C_3: P_2 (Aptidão de 87)\n",
      "  C_4: P_8 (Aptidão de 100)\n",
      "  C_5: P_1 (Aptidão de 100)\n",
      "  C_6: P_3 (Aptidão de 70)\n",
      "  C_7: P_7 (Aptidão de 90)\n",
      "  C_8: P_10 (Aptidão de 57)\n",
      "  C_9: P_6 (Aptidão de 68)\n",
      "  C_10: P_4 (Aptidão de 60)\n",
      "  Soma das aptidões: 832\n"
     ]
    }
   ],
   "source": [
    "# c)\n",
    "cientistas.reset()\n",
    "pool = pipe(range(1,11), list)\n",
    "def getMax(cient) -> Project:\n",
    "    log(\"Cientista\", cient.index)\n",
    "    log(\"  Pool:\", pool)\n",
    "    projetos = [cient[projInd] for projInd in pool]\n",
    "    maxObj   = max(projetos, key=lambda proj: proj.aptidao)\n",
    "    log(\"  Max:\", maxObj)\n",
    "    return maxObj\n",
    "    \n",
    "for i, cientista in enumerate(cientistas):\n",
    "    maxApt = getMax(cientista)\n",
    "    cientista.projetoAssociado = maxApt\n",
    "    pool.remove(maxApt.index)\n",
    "\n",
    "print(cientistas)"
   ]
  },
  {
   "cell_type": "markdown",
   "id": "12eddd82",
   "metadata": {},
   "source": [
    "\n",
    "```mermaid\n",
    "flowchart\n",
    "    C1 -->|100| P9\n",
    "    C2 -->|100| P5\n",
    "    C3 -->|87| P2\n",
    "    C4 -->|100| P8\n",
    "    C5 -->|100| P1\n",
    "    C6 -->|70| P3\n",
    "    C7 -->|90| P7\n",
    "    C8 -->|57| P10\n",
    "    C9 -->|68| P6\n",
    "    C10 -->|60| P4\n",
    "```"
   ]
  },
  {
   "cell_type": "markdown",
   "id": "ebbed9c7",
   "metadata": {},
   "source": [
    "d) Uma estrutura de vizinhança para este problema pode ser definida como a troca de projetos entre dois cientistas. Ou seja, dado dois cientistas $C_i$ e $C_j$ com projetos associados $C_i \\rightarrow P_k$ e $C_j \\rightarrow P_l$, a troca de projetos entre estes dois cientistas resulta em $C_i \\rightarrow P_l$ e $C_j \\rightarrow P_k$, $i,k \\in [1 .. 9]$, $j,l \\in [2 .. 10]$, $i \\neq j$, $k \\neq l$. De forma a garantir que todos os cientistas trocam de projeto em pelo menoz 2 vizinhos, é necessário fazer mais uma solução vizinha, que consiste em trocar a primeira com a última, ou seja, $C_1 \\rightarrow P_{k}$ e $C_{10} \\rightarrow P_l$."
   ]
  },
  {
   "cell_type": "code",
   "execution_count": null,
   "id": "5693768b",
   "metadata": {},
   "outputs": [],
   "source": [
    "# d)\n",
    "def getVizinhanca(cientistas: Cientistas) -> list[Cientistas]:\n",
    "    vizinhanca = []\n",
    "    for i in range(1, len(cientistas)): # [1:9]\n",
    "        vizinho = copy(cientistas)\n",
    "        vizinho.tradeProject(i, i+1)\n",
    "        vizinhanca.append(vizinho)\n",
    "    return vizinhanca"
   ]
  },
  {
   "cell_type": "markdown",
   "id": "6bb5ebb7",
   "metadata": {},
   "source": [
    "e) Uma solução vizinha da apresentada na alínea c) é a seguinte:"
   ]
  },
  {
   "cell_type": "markdown",
   "id": "82701591",
   "metadata": {},
   "source": [
    "```mermaid\n",
    "flowchart\n",
    "    C1 -->|90| P5\n",
    "    C2 -->|82| P9\n",
    "    C3 -->|87| P2\n",
    "    C4 -->|100| P8\n",
    "    C5 -->|100| P1\n",
    "    C6 -->|70| P3\n",
    "    C7 -->|90| P7\n",
    "    C8 -->|57| P10\n",
    "    C9 -->|68| P6\n",
    "    C10 -->|60| P4\n",
    "```"
   ]
  },
  {
   "cell_type": "code",
   "execution_count": null,
   "id": "d9468ed2",
   "metadata": {},
   "outputs": [
    {
     "name": "stdout",
     "output_type": "stream",
     "text": [
      "Cientistas e os seus projetos associados: \n",
      "  C_1: P_5 (Aptidão de 90)\n",
      "  C_2: P_9 (Aptidão de 82)\n",
      "  C_3: P_2 (Aptidão de 87)\n",
      "  C_4: P_8 (Aptidão de 100)\n",
      "  C_5: P_1 (Aptidão de 100)\n",
      "  C_6: P_3 (Aptidão de 70)\n",
      "  C_7: P_7 (Aptidão de 90)\n",
      "  C_8: P_10 (Aptidão de 57)\n",
      "  C_9: P_6 (Aptidão de 68)\n",
      "  C_10: P_4 (Aptidão de 60)\n",
      "  Soma das aptidões: 804\n"
     ]
    }
   ],
   "source": [
    "# e)\n",
    "V = getVizinhanca(cientistas)\n",
    "print(V[0])"
   ]
  },
  {
   "cell_type": "markdown",
   "id": "fca0743e",
   "metadata": {},
   "source": [
    "f) A lista tabu é uma lista de soluções que não podem ser visitadas durante um determinado número de iterações. A lista tabu é utilizada para evitar que o algoritmo de pesquisa tabu não visite soluções visitadas recentemente, de forma a o algoritmo não ficar preso num máximo local não global. A lista precisa de um valor para a sua dimensão, sendo que uma dimensão demasiado alta pode fazer com que o algoritmo não visite soluções que poderiam ser melhores, com uma lista de tabu diferente, e um valor demasiado pequeno poderá fazer co mque o algorítmo não saia do máximo local. Este conceito é designado de tempo de permanência. Para este problema, vamos tentar vários valores de dimensão da lista tabu, de forma a encontrar o melhor valor para a mesma."
   ]
  },
  {
   "cell_type": "code",
   "execution_count": null,
   "id": "690cb40c",
   "metadata": {},
   "outputs": [],
   "source": [
    "tabu_dim = [2, 5, 10, 15, 30, 50, 100]"
   ]
  },
  {
   "cell_type": "markdown",
   "id": "f59672a0",
   "metadata": {},
   "source": [
    "g) A primeira solução iria ser adicionada à lista tabu, para a segunda não a visitar novamente, independentemente do seu valor de aptidão total. Ou seja,"
   ]
  },
  {
   "cell_type": "code",
   "execution_count": null,
   "id": "8b22c192",
   "metadata": {},
   "outputs": [],
   "source": [
    "tabu = [cientistas]"
   ]
  },
  {
   "cell_type": "markdown",
   "id": "94e65595",
   "metadata": {},
   "source": [
    "ou\n",
    "$$\n",
    "\\mathbf{T}_1 = \\left\\{ \\mathbf{S}_1 \\right\\} = \\left\\{ \\left[ C_1 \\rightarrow P_9, C_2 \\rightarrow P_5, \\dots, C_{10} \\rightarrow P_4 \\right] \\right\\}\n",
    "$$\n",
    ",onde $\\mathbf{T}_i$ indica a lista tabu depois da iteração $i$, e $(C_j \\rightarrow P_k) = f_i(C_j) = P_k$, $f_i$ sendo a função que indica o projeto associado ao cientista $C_j$ na iteração $i$."
   ]
  },
  {
   "cell_type": "markdown",
   "id": "4c270fdf",
   "metadata": {},
   "source": [
    "H) Um movimento tabu é uma solução que esteja na lista tabu, ou seja, uma solução que não pode ser visitada na iteração em questão, porque foi visitada recentemente. Depois da primeira iteração, $S_1$ é um movimento tabu para a segunda iteração, porque $S_1 \\in T_2$. Esta caracterízeração mantém-se durante a o tempo de permanência pré-definido, equivalente à dimensão da lista tabu."
   ]
  },
  {
   "cell_type": "code",
   "execution_count": null,
   "id": "e6029623",
   "metadata": {},
   "outputs": [
    {
     "name": "stdout",
     "output_type": "stream",
     "text": [
      "Primeira solução:\n",
      "Cientistas e os seus projetos associados: \n",
      "  C_1: P_9 (Aptidão de 100)\n",
      "  C_2: P_5 (Aptidão de 100)\n",
      "  C_3: P_2 (Aptidão de 87)\n",
      "  C_4: P_8 (Aptidão de 100)\n",
      "  C_5: P_1 (Aptidão de 100)\n",
      "  C_6: P_3 (Aptidão de 70)\n",
      "  C_7: P_7 (Aptidão de 90)\n",
      "  C_8: P_10 (Aptidão de 57)\n",
      "  C_9: P_6 (Aptidão de 68)\n",
      "  C_10: P_4 (Aptidão de 60)\n",
      "  Soma das aptidões: 832\n",
      "Melhor vizinho encontrado na iteração 1:\n",
      "Cientistas e os seus projetos associados: \n",
      "  C_1: P_9 (Aptidão de 100)\n",
      "  C_2: P_5 (Aptidão de 100)\n",
      "  C_3: P_2 (Aptidão de 87)\n",
      "  C_4: P_8 (Aptidão de 100)\n",
      "  C_5: P_1 (Aptidão de 100)\n",
      "  C_6: P_3 (Aptidão de 70)\n",
      "  C_7: P_10 (Aptidão de 90)\n",
      "  C_8: P_7 (Aptidão de 70)\n",
      "  C_9: P_6 (Aptidão de 68)\n",
      "  C_10: P_4 (Aptidão de 60)\n",
      "  Soma das aptidões: 845\n",
      "Critério de aspiração!\n",
      "Melhor vizinho encontrado na iteração 2:\n",
      "Cientistas e os seus projetos associados: \n",
      "  C_1: P_9 (Aptidão de 100)\n",
      "  C_2: P_5 (Aptidão de 100)\n",
      "  C_3: P_2 (Aptidão de 87)\n",
      "  C_4: P_8 (Aptidão de 100)\n",
      "  C_5: P_1 (Aptidão de 100)\n",
      "  C_6: P_3 (Aptidão de 70)\n",
      "  C_7: P_10 (Aptidão de 90)\n",
      "  C_8: P_6 (Aptidão de 54)\n",
      "  C_9: P_7 (Aptidão de 80)\n",
      "  C_10: P_4 (Aptidão de 60)\n",
      "  Soma das aptidões: 841\n",
      "Melhor vizinho encontrado na iteração 3:\n",
      "Cientistas e os seus projetos associados: \n",
      "  C_1: P_9 (Aptidão de 100)\n",
      "  C_2: P_5 (Aptidão de 100)\n",
      "  C_3: P_2 (Aptidão de 87)\n",
      "  C_4: P_8 (Aptidão de 100)\n",
      "  C_5: P_3 (Aptidão de 83)\n",
      "  C_6: P_1 (Aptidão de 80)\n",
      "  C_7: P_10 (Aptidão de 90)\n",
      "  C_8: P_6 (Aptidão de 54)\n",
      "  C_9: P_7 (Aptidão de 80)\n",
      "  C_10: P_4 (Aptidão de 60)\n",
      "  Soma das aptidões: 834\n",
      "Melhor vizinho encontrado na iteração 4:\n",
      "Cientistas e os seus projetos associados: \n",
      "  C_1: P_9 (Aptidão de 100)\n",
      "  C_2: P_5 (Aptidão de 100)\n",
      "  C_3: P_2 (Aptidão de 87)\n",
      "  C_4: P_8 (Aptidão de 100)\n",
      "  C_5: P_3 (Aptidão de 83)\n",
      "  C_6: P_1 (Aptidão de 80)\n",
      "  C_7: P_10 (Aptidão de 90)\n",
      "  C_8: P_7 (Aptidão de 70)\n",
      "  C_9: P_6 (Aptidão de 68)\n",
      "  C_10: P_4 (Aptidão de 60)\n",
      "  Soma das aptidões: 838\n",
      "Melhor vizinho encontrado na iteração 5:\n",
      "Cientistas e os seus projetos associados: \n",
      "  C_1: P_9 (Aptidão de 100)\n",
      "  C_2: P_5 (Aptidão de 100)\n",
      "  C_3: P_2 (Aptidão de 87)\n",
      "  C_4: P_8 (Aptidão de 100)\n",
      "  C_5: P_3 (Aptidão de 83)\n",
      "  C_6: P_1 (Aptidão de 80)\n",
      "  C_7: P_10 (Aptidão de 90)\n",
      "  C_8: P_7 (Aptidão de 70)\n",
      "  C_9: P_4 (Aptidão de 48)\n",
      "  C_10: P_6 (Aptidão de 70)\n",
      "  Soma das aptidões: 828\n",
      "Melhor vizinho encontrado na iteração 6:\n",
      "Cientistas e os seus projetos associados: \n",
      "  C_1: P_9 (Aptidão de 100)\n",
      "  C_2: P_5 (Aptidão de 100)\n",
      "  C_3: P_2 (Aptidão de 87)\n",
      "  C_4: P_8 (Aptidão de 100)\n",
      "  C_5: P_1 (Aptidão de 100)\n",
      "  C_6: P_3 (Aptidão de 70)\n",
      "  C_7: P_10 (Aptidão de 90)\n",
      "  C_8: P_7 (Aptidão de 70)\n",
      "  C_9: P_4 (Aptidão de 48)\n",
      "  C_10: P_6 (Aptidão de 70)\n",
      "  Soma das aptidões: 835\n",
      "Melhor vizinho encontrado na iteração 7:\n",
      "Cientistas e os seus projetos associados: \n",
      "  C_1: P_9 (Aptidão de 100)\n",
      "  C_2: P_5 (Aptidão de 100)\n",
      "  C_3: P_2 (Aptidão de 87)\n",
      "  C_4: P_8 (Aptidão de 100)\n",
      "  C_5: P_1 (Aptidão de 100)\n",
      "  C_6: P_3 (Aptidão de 70)\n",
      "  C_7: P_10 (Aptidão de 90)\n",
      "  C_8: P_4 (Aptidão de 40)\n",
      "  C_9: P_7 (Aptidão de 80)\n",
      "  C_10: P_6 (Aptidão de 70)\n",
      "  Soma das aptidões: 837\n",
      "Melhor vizinho encontrado na iteração 8:\n",
      "Cientistas e os seus projetos associados: \n",
      "  C_1: P_9 (Aptidão de 100)\n",
      "  C_2: P_5 (Aptidão de 100)\n",
      "  C_3: P_2 (Aptidão de 87)\n",
      "  C_4: P_8 (Aptidão de 100)\n",
      "  C_5: P_1 (Aptidão de 100)\n",
      "  C_6: P_3 (Aptidão de 70)\n",
      "  C_7: P_4 (Aptidão de 79)\n",
      "  C_8: P_10 (Aptidão de 57)\n",
      "  C_9: P_7 (Aptidão de 80)\n",
      "  C_10: P_6 (Aptidão de 70)\n",
      "  Soma das aptidões: 843\n",
      "Melhor vizinho encontrado na iteração 9:\n",
      "Cientistas e os seus projetos associados: \n",
      "  C_1: P_9 (Aptidão de 100)\n",
      "  C_2: P_5 (Aptidão de 100)\n",
      "  C_3: P_2 (Aptidão de 87)\n",
      "  C_4: P_8 (Aptidão de 100)\n",
      "  C_5: P_1 (Aptidão de 100)\n",
      "  C_6: P_4 (Aptidão de 65)\n",
      "  C_7: P_3 (Aptidão de 90)\n",
      "  C_8: P_10 (Aptidão de 57)\n",
      "  C_9: P_7 (Aptidão de 80)\n",
      "  C_10: P_6 (Aptidão de 70)\n",
      "  Soma das aptidões: 849\n",
      "Critério de aspiração!\n",
      "Melhor vizinho encontrado na iteração 10:\n",
      "Cientistas e os seus projetos associados: \n",
      "  C_1: P_9 (Aptidão de 100)\n",
      "  C_2: P_5 (Aptidão de 100)\n",
      "  C_3: P_2 (Aptidão de 87)\n",
      "  C_4: P_8 (Aptidão de 100)\n",
      "  C_5: P_1 (Aptidão de 100)\n",
      "  C_6: P_4 (Aptidão de 65)\n",
      "  C_7: P_10 (Aptidão de 90)\n",
      "  C_8: P_3 (Aptidão de 100)\n",
      "  C_9: P_7 (Aptidão de 80)\n",
      "  C_10: P_6 (Aptidão de 70)\n",
      "  Soma das aptidões: 892\n",
      "Critério de aspiração!\n",
      "Atingido valor mínimo de aptidão!\n",
      "Cientistas e os seus projetos associados: \n",
      "  C_1: P_9 (Aptidão de 100)\n",
      "  C_2: P_5 (Aptidão de 100)\n",
      "  C_3: P_2 (Aptidão de 87)\n",
      "  C_4: P_8 (Aptidão de 100)\n",
      "  C_5: P_1 (Aptidão de 100)\n",
      "  C_6: P_4 (Aptidão de 65)\n",
      "  C_7: P_10 (Aptidão de 90)\n",
      "  C_8: P_3 (Aptidão de 100)\n",
      "  C_9: P_7 (Aptidão de 80)\n",
      "  C_10: P_6 (Aptidão de 70)\n",
      "  Soma das aptidões: 892\n"
     ]
    }
   ],
   "source": [
    "# i)\n",
    "def orderVizinhanca(vizinhanca: list[Cientistas]) -> list[Cientistas]:\n",
    "    return sorted(vizinhanca, key=lambda vizinho: vizinho.aptidaoTotal, reverse=True)\n",
    "\n",
    "def TabuSearch(primeira: Cientistas, tempo_perm: int, max_iter: int, minApt: int) -> Cientistas:\n",
    "    tabu = []\n",
    "    globalBest = localBest = copy(primeira)\n",
    "    log(\"Primeira solução:\")\n",
    "    log(localBest)\n",
    "    for i in range(max_iter):\n",
    "        # atualizar lista tabu (no inicio pq livramo-nos do localBest cedo)\n",
    "        tabu.append(localBest)\n",
    "        if len(tabu) > tempo_perm:\n",
    "            tabu.pop(0)\n",
    "\n",
    "        # vizinhanca\n",
    "        localBestV = pipe(getVizinhanca(localBest), orderVizinhanca)\n",
    "\n",
    "\n",
    "\n",
    "        # escolher vizinho que não esteja na lista tabu\n",
    "        for localVizinho in localBestV:\n",
    "            if localVizinho not in tabu:\n",
    "                localBest = localVizinho\n",
    "                log(f\"Melhor vizinho encontrado na iteração {i+1}:\")\n",
    "                log(localBest)\n",
    "                break\n",
    "\n",
    "        # Critério de Aspiração\n",
    "        if localBest.aptidaoTotal > globalBest.aptidaoTotal: #excluive\n",
    "            log(\"Critério de aspiração!\")\n",
    "            globalBest = copy(localBest) # copy n deve ser preciso mas é melhor\n",
    "\n",
    "        # stop condition (iterações está no range já)\n",
    "        if globalBest.aptidaoTotal >= minApt:\n",
    "            log(\"Atingido valor mínimo de aptidão!\")\n",
    "            return globalBest\n",
    "    log(\"Atingido número máximo de iterações!\")\n",
    "    return globalBest\n",
    "\n",
    "print(TabuSearch(cientistas, tempo_perm=15, max_iter=100, minApt=850))"
   ]
  },
  {
   "cell_type": "code",
   "execution_count": null,
   "id": "4ddded6f",
   "metadata": {},
   "outputs": [
    {
     "name": "stdout",
     "output_type": "stream",
     "text": [
      "Apitdão máxima com todos os tempos de permanência\n",
      "Cientistas e os seus projetos associados: \n",
      "  C_1: P_9 (Aptidão de 100)\n",
      "  C_2: P_5 (Aptidão de 100)\n",
      "  C_3: P_2 (Aptidão de 87)\n",
      "  C_4: P_8 (Aptidão de 100)\n",
      "  C_5: P_7 (Aptidão de 93)\n",
      "  C_6: P_4 (Aptidão de 65)\n",
      "  C_7: P_10 (Aptidão de 90)\n",
      "  C_8: P_3 (Aptidão de 100)\n",
      "  C_9: P_1 (Aptidão de 90)\n",
      "  C_10: P_6 (Aptidão de 70)\n",
      "  Soma das aptidões: 895\n"
     ]
    }
   ],
   "source": [
    "showLog = False\n",
    "all = []\n",
    "for i in range(1, 101):\n",
    "    # tentar com todos os tempos de permanência\n",
    "    all.append((i, TabuSearch(cientistas, tempo_perm=i, max_iter=100, minApt=10000)))\n",
    "print(f\"Apitdão máxima com todos os tempos de permanência\")\n",
    "print(max(all, key=lambda x: x[1].aptidaoTotal)[1])"
   ]
  },
  {
   "cell_type": "code",
   "execution_count": null,
   "id": "ef6e8c2f",
   "metadata": {},
   "outputs": [
    {
     "data": {
      "image/png": "[encoded data removed]",
      "text/plain": [
       "<Figure size 640x480 with 1 Axes>"
      ]
     },
     "metadata": {
      "image/png": {
       "height": 480,
       "width": 640
      }
     },
     "output_type": "display_data"
    },
    {
     "data": {
      "text/plain": [
       "<Figure Size: (640 x 480)>"
      ]
     },
     "execution_count": null,
     "metadata": {},
     "output_type": "execute_result"
    }
   ],
   "source": [
    "from plotnine import *\n",
    "# list of tuples to dataframe\n",
    "df = DataFrame(all, columns=[\"tempo_perm\", \"cientistas\"])\n",
    "df[\"aptidao\"] = df[\"cientistas\"].apply(lambda x: x.aptidaoTotal)\n",
    "(ggplot(df, aes(x=\"tempo_perm\", y=\"aptidao\")) + geom_point())"
   ]
  }
 ],
 "metadata": {
  "kernelspec": {
   "display_name": "ipy3.11_oh",
   "language": "python",
   "name": "ipy3.11_oh"
  }
 },
 "nbformat": 4,
 "nbformat_minor": 5
}
