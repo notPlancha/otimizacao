{
 "cells": [
  {
   "cell_type": "markdown",
   "id": "edd7c8f3-187d-4edb-b20d-30406b22b882",
   "metadata": {},
   "source": [
    "A companhia farmacêutica Lusa_Med detém os direitos sobre dez projetos I&D, P1, …, P10, e pretende iniciá-los na tentativa de desenvolver novos medicamentos para o tratamento de dez tipos específicos de doenças. Cada projeto necessita de um coordenador distinto para o liderar e, atendendo à exigência dos projetos, cada coordenador só poderá liderar um só projeto. A Lusa_Med já selecionou dez cientistas seniores, C1, …, C10, e pretende saber como deve alocar os cientistas aos projetos. Para o efeito, a companhia elaborou uma tabela com a aptidão de cada cientista para liderar cada um dos projetos (medida na escala 0-100):"
   ]
  },
  {
   "cell_type": "code",
   "execution_count": null,
   "id": "a4c2c167-4337-43b9-938b-0cdc9c8cf9e6",
   "metadata": {},
   "outputs": [
    {
     "data": {
      "text/plain": [
       "array([[ 70,  65,  55,  50,  90,  67,  80,  62, 100,  85],\n",
       "       [ 74,  83,  54,  60, 100,  75,  50,  76,  82,  45],\n",
       "       [ 71,  87,  66,  58,  74,  81,  48,  52, 100,  64],\n",
       "       [ 50,  89,  78,  63,  51,  40,  48, 100,  68,  75],\n",
       "       [100,  66,  83,  77,  54,  58,  93,  89,  53,  48],\n",
       "       [ 80,  55,  70,  65,  94,  47,  60,  88,  73,  60],\n",
       "       [ 87,  63,  90,  79,  47,  77,  90,  76,  85,  90],\n",
       "       [ 67,  95, 100,  40,  70,  54,  70, 100,  65,  57],\n",
       "       [ 90,  45,  88,  48,  65,  68,  80,  46,  71,  67],\n",
       "       [ 67,  77,  50,  60, 100,  70,  80,  60,  65,  70]])"
      ]
     },
     "execution_count": null,
     "metadata": {},
     "output_type": "execute_result"
    }
   ],
   "source": [
    "import pandas as pd\n",
    "import numpy as np\n",
    "\n",
    "table = np.array([\n",
    "    [ 70,  65,  55,  50,  90,  67,  80,  62, 100,  85],\n",
    "    [ 74,  83,  54,  60, 100,  75,  50,  76,  82,  45],\n",
    "    [ 71,  87,  66,  58,  74,  81,  48,  52, 100,  64],\n",
    "    [ 50,  89,  78,  63,  51,  40,  48, 100,  68,  75],\n",
    "    [100,  66,  83,  77,  54,  58,  93,  89,  53,  48],\n",
    "    [ 80,  55,  70,  65,  94,  47,  60,  88,  73,  60],\n",
    "    [ 87,  63,  90,  79,  47,  77,  90,  76,  85,  90],\n",
    "    [ 67,  95, 100,  40,  70,  54,  70, 100,  65,  57],\n",
    "    [ 90,  45,  88,  48,  65,  68,  80,  46,  71,  67],\n",
    "    [ 67,  77,  50,  60, 100,  70,  80,  60,  65,  70]\n",
    "])\n",
    "table "
   ]
  }
 ],
 "metadata": {
  "kernelspec": {
   "display_name": "python3",
   "language": "python",
   "name": "python3"
  }
 },
 "nbformat": 4,
 "nbformat_minor": 5
}
